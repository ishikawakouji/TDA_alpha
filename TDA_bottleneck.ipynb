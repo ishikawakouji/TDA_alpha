{
 "cells": [
  {
   "cell_type": "markdown",
   "metadata": {},
   "source": [
    "# bottleneck\n",
    "\n",
    "2つの persistence diagrams (存続ダイアグラム)の距離を求める。"
   ]
  },
  {
   "cell_type": "code",
   "execution_count": 4,
   "metadata": {
    "collapsed": false
   },
   "outputs": [
    {
     "name": "stdout",
     "output_type": "stream",
     "text": [
      "[1] 0.2889754\n"
     ]
    }
   ],
   "source": [
    "library(TDA)\n",
    "\n",
    "XX1 <- circleUnif(20)\n",
    "XX2 <- circleUnif(20, r = 0.2)\n",
    "DiagLim <- 5\n",
    "maxdimension <- 1\n",
    "Diag1 <- ripsDiag(XX1, maxdimension, DiagLim, printProgress = FALSE)\n",
    "Diag2 <- ripsDiag(XX2, maxdimension, DiagLim, printProgress = FALSE)\n",
    "bottleneckDist <- bottleneck(Diag1[[\"diagram\"]], Diag2[[\"diagram\"]],dimension = 1)\n",
    "print(bottleneckDist)"
   ]
  },
  {
   "cell_type": "code",
   "execution_count": null,
   "metadata": {
    "collapsed": true
   },
   "outputs": [],
   "source": []
  }
 ],
 "metadata": {
  "kernelspec": {
   "display_name": "R",
   "language": "R",
   "name": "ir"
  },
  "language_info": {
   "codemirror_mode": "r",
   "file_extension": ".r",
   "mimetype": "text/x-r-source",
   "name": "R",
   "pygments_lexer": "r",
   "version": "3.1.2"
  }
 },
 "nbformat": 4,
 "nbformat_minor": 0
}
