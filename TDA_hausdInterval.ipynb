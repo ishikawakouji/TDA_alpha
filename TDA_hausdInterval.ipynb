{
 "cells": [
  {
   "cell_type": "markdown",
   "metadata": {},
   "source": [
    "# hausdInterval\n",
    "hausdInterval computes a confidence interval for the Hausdorff distance between a point cloud X\n",
    "and the underlying manifold from which X was sampled. See Details. The validity of the method is\n",
    "proved in the 1st Reference."
   ]
  },
  {
   "cell_type": "code",
   "execution_count": 1,
   "metadata": {
    "collapsed": false
   },
   "outputs": [
    {
     "name": "stdout",
     "output_type": "stream",
     "text": [
      "       95% \n",
      "0.06938066 \n"
     ]
    }
   ],
   "source": [
    "library(TDA)\n",
    "\n",
    "X <- circleUnif(1000)\n",
    "interval <- hausdInterval(X, m = 800)\n",
    "print(interval)"
   ]
  },
  {
   "cell_type": "code",
   "execution_count": null,
   "metadata": {
    "collapsed": true
   },
   "outputs": [],
   "source": []
  }
 ],
 "metadata": {
  "kernelspec": {
   "display_name": "R",
   "language": "R",
   "name": "ir"
  },
  "language_info": {
   "codemirror_mode": "r",
   "file_extension": ".r",
   "mimetype": "text/x-r-source",
   "name": "R",
   "pygments_lexer": "r",
   "version": "3.1.2"
  }
 },
 "nbformat": 4,
 "nbformat_minor": 0
}
