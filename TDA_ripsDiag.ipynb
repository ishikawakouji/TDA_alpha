{
 "cells": [
  {
   "cell_type": "markdown",
   "metadata": {},
   "source": [
    "# ripsDiag\n",
    "This function computes the persistence diagram of the Rips filtration built on top of a point cloud."
   ]
  },
  {
   "cell_type": "code",
   "execution_count": 2,
   "metadata": {
    "collapsed": false
   },
   "outputs": [
    {
     "name": "stdout",
     "output_type": "stream",
     "text": [
      "# Generated complex of size: 4525 \n",
      "# Generated complex of size: 7 \n",
      "# Persistence timer: Elapsed time [ 0.000092 ] seconds\n",
      "     dimension Birth Death\n",
      "[1,]         0     0     5\n",
      "[2,]         0     0     1\n",
      "[3,]         0     0     2\n"
     ]
    }
   ],
   "source": [
    "library(TDA)\n",
    "\n",
    "## EXAMPLE 1: rips diagram for circles (euclidean distance)\n",
    "XX <- circleUnif(30)\n",
    "\n",
    "maxscale <- 5\n",
    "maxdimension <- 1\n",
    "\n",
    "## note that the input XX is a point cloud\n",
    "Diag <- ripsDiag(XX, maxdimension, maxscale, printProgress = TRUE)\n",
    "\n",
    "## EXAMPLE 2: rips diagram with arbitrary distance\n",
    "## distance matrix for triangle with edges of length: 1,2,4\n",
    "distX <- matrix(c(0, 1, 2, 1, 0, 4, 2, 4, 0), ncol = 3)\n",
    "maxscale <- 5\n",
    "maxdimension <- 1\n",
    "\n",
    "## note that the input distXX is a distance matrix\n",
    "DiagTri <- ripsDiag(distX, maxdimension, maxscale, dist = \"arbitrary\",printProgress = TRUE)\n",
    "\n",
    "#points with lifetime = 0 are not shown. e.g. the loop of the triangle.\n",
    "print(DiagTri[[\"diagram\"]])"
   ]
  }
 ],
 "metadata": {
  "kernelspec": {
   "display_name": "R",
   "language": "R",
   "name": "ir"
  },
  "language_info": {
   "codemirror_mode": "r",
   "file_extension": ".r",
   "mimetype": "text/x-r-source",
   "name": "R",
   "pygments_lexer": "r",
   "version": "3.1.2"
  }
 },
 "nbformat": 4,
 "nbformat_minor": 0
}
