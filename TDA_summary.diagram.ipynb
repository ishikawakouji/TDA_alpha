{
 "cells": [
  {
   "cell_type": "markdown",
   "metadata": {},
   "source": [
    "# summary.diagram\n",
    "print.diagram prints a persistence diagram, a P by 3 matrix, where P is the number of points\n",
    "in the diagram. The first column contains the dimension of each feature (0 for components, 1 for\n",
    "loops, 2 for voids, etc.). Second and third columns are Birth and Death of the features.\n",
    "summary.diagram produces basic summaries of a persistence diagrams."
   ]
  },
  {
   "cell_type": "code",
   "execution_count": 3,
   "metadata": {
    "collapsed": false
   },
   "outputs": [
    {
     "name": "stdout",
     "output_type": "stream",
     "text": [
      "# Generated complex of size: 16828 \n",
      "      dimension     Birth       Death\n",
      " [1,]         0 0.0000000 5.000000000\n",
      " [2,]         0 0.0000000 1.329456772\n",
      " [3,]         0 0.0000000 1.320579612\n",
      " [4,]         0 0.0000000 1.096211335\n",
      " [5,]         0 0.0000000 0.867596892\n",
      " [6,]         0 0.0000000 0.850959353\n",
      " [7,]         0 0.0000000 0.803777763\n",
      " [8,]         0 0.0000000 0.739444695\n",
      " [9,]         0 0.0000000 0.708626890\n",
      "[10,]         0 0.0000000 0.561377991\n",
      "[11,]         0 0.0000000 0.547834804\n",
      "[12,]         0 0.0000000 0.489239599\n",
      "[13,]         0 0.0000000 0.471783355\n",
      "[14,]         0 0.0000000 0.456775551\n",
      "[15,]         0 0.0000000 0.426567231\n",
      "[16,]         0 0.0000000 0.424147426\n",
      "[17,]         0 0.0000000 0.398195026\n",
      "[18,]         0 0.0000000 0.397159071\n",
      "[19,]         0 0.0000000 0.349399146\n",
      "[20,]         0 0.0000000 0.314876252\n",
      "[21,]         0 0.0000000 0.275929185\n",
      "[22,]         0 0.0000000 0.272271788\n",
      "[23,]         0 0.0000000 0.264558290\n",
      "[24,]         0 0.0000000 0.260996483\n",
      "[25,]         0 0.0000000 0.246531357\n",
      "[26,]         0 0.0000000 0.244046814\n",
      "[27,]         0 0.0000000 0.243759400\n",
      "[28,]         0 0.0000000 0.230072276\n",
      "[29,]         0 0.0000000 0.206303754\n",
      "[30,]         0 0.0000000 0.186656095\n",
      "[31,]         0 0.0000000 0.176926655\n",
      "[32,]         0 0.0000000 0.170573154\n",
      "[33,]         0 0.0000000 0.157854238\n",
      "[34,]         0 0.0000000 0.149914281\n",
      "[35,]         0 0.0000000 0.137939815\n",
      "[36,]         0 0.0000000 0.136011160\n",
      "[37,]         0 0.0000000 0.129697934\n",
      "[38,]         0 0.0000000 0.127260248\n",
      "[39,]         0 0.0000000 0.122168574\n",
      "[40,]         0 0.0000000 0.117794783\n",
      "[41,]         0 0.0000000 0.105614468\n",
      "[42,]         0 0.0000000 0.105170422\n",
      "[43,]         0 0.0000000 0.104918138\n",
      "[44,]         0 0.0000000 0.104377734\n",
      "[45,]         0 0.0000000 0.100781029\n",
      "[46,]         0 0.0000000 0.098893480\n",
      "[47,]         0 0.0000000 0.098890290\n",
      "[48,]         0 0.0000000 0.094078643\n",
      "[49,]         0 0.0000000 0.090294408\n",
      "[50,]         0 0.0000000 0.087251580\n",
      "[51,]         0 0.0000000 0.076742695\n",
      "[52,]         0 0.0000000 0.069573182\n",
      "[53,]         0 0.0000000 0.041691035\n",
      "[54,]         0 0.0000000 0.032723063\n",
      "[55,]         0 0.0000000 0.031695410\n",
      "[56,]         0 0.0000000 0.029005389\n",
      "[57,]         0 0.0000000 0.024337379\n",
      "[58,]         0 0.0000000 0.017619269\n",
      "[59,]         0 0.0000000 0.007145781\n",
      "[60,]         0 0.0000000 0.002174962\n",
      "[61,]         1 1.4957190 3.491062690\n",
      "[62,]         1 0.7894051 1.747035334\n",
      "[63,]         1 1.3834923 1.390546072\n",
      "Call: \n",
      "ripsDiag(X = XX, maxdimension = maxdimension, maxscale = DiagLim, \n",
      "    printProgress = TRUE)\n",
      "\n",
      "Number of features: \n",
      "[1] 63\n",
      "\n",
      "Max dimension: \n",
      "[1] 1\n",
      "\n",
      "Scale: \n",
      "[1] 0 5\n"
     ]
    }
   ],
   "source": [
    "library(TDA)\n",
    "\n",
    "# Generate data from 2 circles\n",
    "XX1 <- circleUnif(30)\n",
    "XX2 <- circleUnif(30, r = 2) + 3\n",
    "XX <- rbind(XX1, XX2)\n",
    "\n",
    "DiagLim <- 5 # limit of the filtration\n",
    "maxdimension <- 1 # computes betti0 and betti1\n",
    "Diag <- ripsDiag(XX, maxdimension, DiagLim, printProgress = TRUE)\n",
    "\n",
    "print(Diag[[\"diagram\"]])\n",
    "print(summary(Diag[[\"diagram\"]]))"
   ]
  }
 ],
 "metadata": {
  "kernelspec": {
   "display_name": "R",
   "language": "R",
   "name": "ir"
  },
  "language_info": {
   "codemirror_mode": "r",
   "file_extension": ".r",
   "mimetype": "text/x-r-source",
   "name": "R",
   "pygments_lexer": "r",
   "version": "3.1.2"
  }
 },
 "nbformat": 4,
 "nbformat_minor": 0
}
