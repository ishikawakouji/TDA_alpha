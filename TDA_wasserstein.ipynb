{
 "cells": [
  {
   "cell_type": "markdown",
   "metadata": {},
   "source": [
    "# wasserstein\n",
    "This function computes the Wasserstein distance between two persistence diagrams."
   ]
  },
  {
   "cell_type": "code",
   "execution_count": 3,
   "metadata": {
    "collapsed": false
   },
   "outputs": [
    {
     "name": "stdout",
     "output_type": "stream",
     "text": [
      "[1] 0.4404343\n"
     ]
    }
   ],
   "source": [
    "library(TDA)\n",
    "\n",
    "XX1 <- circleUnif(20)\n",
    "XX2 <- circleUnif(20, r = 0.2)\n",
    "\n",
    "DiagLim <- 5\n",
    "maxdimension <- 1\n",
    "\n",
    "Diag1 <- ripsDiag(XX1, maxdimension, DiagLim, printProgress = FALSE)\n",
    "Diag2 <- ripsDiag(XX2, maxdimension, DiagLim, printProgress = FALSE)\n",
    "\n",
    "wassersteinDist <- wasserstein(Diag1[[\"diagram\"]], Diag2[[\"diagram\"]], p = 1,\n",
    "    dimension = 1)\n",
    "print(wassersteinDist)"
   ]
  }
 ],
 "metadata": {
  "kernelspec": {
   "display_name": "R",
   "language": "R",
   "name": "ir"
  },
  "language_info": {
   "codemirror_mode": "r",
   "file_extension": ".r",
   "mimetype": "text/x-r-source",
   "name": "R",
   "pygments_lexer": "r",
   "version": "3.1.2"
  }
 },
 "nbformat": 4,
 "nbformat_minor": 0
}
