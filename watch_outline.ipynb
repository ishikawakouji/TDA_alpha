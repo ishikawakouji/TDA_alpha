{
 "cells": [
  {
   "cell_type": "markdown",
   "metadata": {},
   "source": [
    "まずざっくりデータを見るという方法を試す。参照はこちら。\n",
    "\n",
    "[ALBERT Office blog, 高次元データの可視化の手法をSwiss rollを例に見てみよう](http://blog.albert2005.co.jp/2014/12/11/%E9%AB%98%E6%AC%A1%E5%85%83%E3%83%87%E3%83%BC%E3%82%BF%E3%81%AE%E5%8F%AF%E8%A6%96%E5%8C%96%E3%81%AE%E6%89%8B%E6%B3%95%E3%82%92swiss-roll%E3%82%92%E4%BE%8B%E3%81%AB%E8%A6%8B%E3%81%A6%E3%81%BF%E3%82%88/)"
   ]
  },
  {
   "cell_type": "markdown",
   "metadata": {},
   "source": [
    "RDRToolbox の準備が必要だが、これは別途やっておく。参照元の source と biocLite が相当する。"
   ]
  },
  {
   "cell_type": "code",
   "execution_count": null,
   "metadata": {
    "collapsed": false
   },
   "outputs": [],
   "source": [
    "#RDRToolbox を利用\n",
    "library(RDRToolbox)\n",
    "\n",
    "#Swiss Roll を作成\n",
    "N=1000\n",
    "p = sqrt(2 + 2 * seq(-1, 1 - 2/N, 2/N))\n",
    "y = 2 * runif(N, -1, 1)\n",
    "d_sr = cbind(p * cos(2*pi*p), y, p * sin(2*pi*p))\n",
    " \n",
    "color <- vector()\n",
    "for(i in 1:N){\n",
    " color[i] = rainbow(ceiling(N/50))[ceiling(i/50)]\n",
    "}\n",
    "labels=seq(N)\n",
    "\n",
    "#見てみる\n",
    "#plotDR(data=d_sr, labels=labels, col=color)"
   ]
  },
  {
   "cell_type": "markdown",
   "metadata": {},
   "source": [
    "まず古典的らしい、高次元データの可視化。３つあるらしい。\n",
    "\n",
    "- 主成分分析（PCA）\n",
    "- 多次元尺度構成法（MDS)\n",
    "- 自己組織化マップ（SOM）"
   ]
  },
  {
   "cell_type": "markdown",
   "metadata": {},
   "source": [
    "## 主成分分析(PCA)"
   ]
  },
  {
   "cell_type": "code",
   "execution_count": null,
   "metadata": {
    "collapsed": false,
    "scrolled": true
   },
   "outputs": [],
   "source": [
    "#主成分分析による次元削除\n",
    "d_pca <- prcomp(d_sr, scale=TRUE)\n",
    "d_pca$x[,1:2]\n",
    "plotDR(data=d_pca$x[,1:2], labels=labels, col=color)"
   ]
  },
  {
   "cell_type": "markdown",
   "metadata": {},
   "source": [
    "## 多次元尺度構成法(MDS)"
   ]
  },
  {
   "cell_type": "code",
   "execution_count": null,
   "metadata": {
    "collapsed": true
   },
   "outputs": [],
   "source": [
    "#多次元尺度構成法による次元削除\n",
    "d_cmds <- cmdscale(dist(d_sr), k = 2)\n",
    "plotDR(data=d_cmds, labels=labels, col=color)"
   ]
  },
  {
   "cell_type": "markdown",
   "metadata": {},
   "source": [
    "## 自己組織化マップ(SOM)"
   ]
  },
  {
   "cell_type": "code",
   "execution_count": null,
   "metadata": {
    "collapsed": true
   },
   "outputs": [],
   "source": [
    "#自己組織化マップによる可視化\n",
    "install.packages(\"som\") #somパッケージのインストール\n",
    "library(som)\n",
    "d_som <- som(normalize(d_sr), xdim=8, ydim=4)\n",
    "plotDR(data=(d_som$visual[,1:2]+0.5+cbind(rnorm(nrow(d_sr),0, 0.2), rnorm(nrow(d_sr), 0, 0.2))), labels=labels, col=color)"
   ]
  },
  {
   "cell_type": "markdown",
   "metadata": {},
   "source": [
    "古典的な方法でうまく行かない場合、改良されている手法を試す。\n",
    "\n",
    "## カーネル主成分分析\n",
    "データが非線形だと主成分分析はうまくいかない。"
   ]
  },
  {
   "cell_type": "code",
   "execution_count": null,
   "metadata": {
    "collapsed": true
   },
   "outputs": [],
   "source": [
    "#カーネル主成分分析による次元削除\n",
    "install.packages(\"kernlab\") #kernlabパッケージのインストール\n",
    "library(kernlab)\n",
    "d_kpca <- kpca(d_sr, kernel = \"rbfdot\", features=2, kpar=list(sigma=3))\n",
    "plotDR(data=pcv(d_kpca), labels=labels, col=color)"
   ]
  },
  {
   "cell_type": "markdown",
   "metadata": {},
   "source": [
    "## Isomap\n",
    "多次元尺度構成法のデータ同士の近さを測る方法として、ユークリッド空間を一般化させた多様体を用いるやり方。結構時間が掛かる。"
   ]
  },
  {
   "cell_type": "code",
   "execution_count": null,
   "metadata": {
    "collapsed": true
   },
   "outputs": [],
   "source": [
    "#isomapによる次元削除\n",
    "#library(RDRToolbox)\n",
    "d_isomap <- Isomap(data=d_sr, dims=2, k=5)\n",
    "plotDR(data=d_isomap[[1]], labels=labels, col=color)"
   ]
  },
  {
   "cell_type": "markdown",
   "metadata": {},
   "source": [
    "## Locally Linear Embedding(LLE)\n",
    "isomap以外の多様体学習として、多様体が局所的にユークリッドであることを用いる。\n",
    "\n",
    "lleパッケージのインストールは別途やっておく。"
   ]
  },
  {
   "cell_type": "code",
   "execution_count": null,
   "metadata": {
    "collapsed": true
   },
   "outputs": [],
   "source": [
    "#Locally Linear Embeddingによる次元削除\n",
    "#install.packages(\"lle\") #lleパッケージのインストール\n",
    "library(lle)\n",
    "d_lle <- lle(d_sr, m=2, k=12)\n",
    "plotDR(data=d_lle[[1]], labels=labels, col=color)"
   ]
  },
  {
   "cell_type": "markdown",
   "metadata": {},
   "source": [
    "## Diffusion Map\n",
    "多様体上のランダムウォークを利用する。\n",
    "\n",
    "diffutionMapパッケージのインストールは別途やっておく。"
   ]
  },
  {
   "cell_type": "code",
   "execution_count": null,
   "metadata": {
    "collapsed": true
   },
   "outputs": [],
   "source": [
    "#diffusion mapによる次元削除\n",
    "#install.packages(\"diffusionMap\") #diffusionMapパッケージのインストール\n",
    "library(diffusionMap)\n",
    "d_dffmap <- diffuse(dist(scale(d_sr)))\n",
    "plotDR(data=d_dffmap$X[,1:2], labels=labels, col=color)"
   ]
  }
 ],
 "metadata": {
  "kernelspec": {
   "display_name": "R",
   "language": "R",
   "name": "ir"
  },
  "language_info": {
   "codemirror_mode": "r",
   "file_extension": ".r",
   "mimetype": "text/x-r-source",
   "name": "R",
   "pygments_lexer": "r",
   "version": "3.1.2"
  }
 },
 "nbformat": 4,
 "nbformat_minor": 0
}
