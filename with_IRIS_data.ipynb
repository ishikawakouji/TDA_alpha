{
 "cells": [
  {
   "cell_type": "markdown",
   "metadata": {},
   "source": [
    "# IRISデータでATDの練習\n",
    "\n",
    "## こちらで紹介されてたのでやってみる\n",
    "\n",
    "[Toying with Topological Data Analysis - Part 1 (IRIS)](https://dreamtolearn.com/ryan/data_analytics_viz/47)\n",
    "\n",
    "ソースはそのサイトの中からリンクされている。これを少しずつ追いかける。\n",
    "\n",
    "phom というパッケージが必要だが、R のパッケージから外れているので、\n",
    "[CRAN phom](https://cran.r-project.org/web/packages/phom/index.html)\n",
    "\n",
    "アーカイブをダウンロードして、Rにインストールしておく。"
   ]
  },
  {
   "cell_type": "code",
   "execution_count": 1,
   "metadata": {
    "collapsed": false
   },
   "outputs": [
    {
     "name": "stderr",
     "output_type": "stream",
     "text": [
      "randomForest 4.6-12\n",
      "Type rfNews() to see new features/changes/bug fixes.\n",
      "Loading required package: Rcpp\n"
     ]
    }
   ],
   "source": [
    "# まず準備\n",
    "############################################\n",
    "## Toying with Topological Data Analysis  ##\n",
    "## Testing on IRIS Mythica - 200 samples  ##\n",
    "## four types (3 standard + 1 fabricated) ##\n",
    "## R. Anderson March 2014                 ##\n",
    "############################################\n",
    "library(diffusionMap)\n",
    "library(randomForest)\n",
    "library(ggplot2)\n",
    "library(reshape2)  ## here is where we do a 'pivot table'\n",
    "library(plyr)\n",
    "library(phom)"
   ]
  },
  {
   "cell_type": "markdown",
   "metadata": {},
   "source": [
    "## とりあえずここから\n",
    "データ読み込みと、散布図での表示。データには mythica 種が入って４種類になっているデータを利用している。\n",
    "このCSVは適当に入手して、どこかに置いておく。"
   ]
  },
  {
   "cell_type": "code",
   "execution_count": 2,
   "metadata": {
    "collapsed": false
   },
   "outputs": [
    {
     "data": {
      "text/html": [
       "<table>\n",
       "<thead><tr><th></th><th scope=col>Index</th><th scope=col>sepal.length</th><th scope=col>sepal.width</th><th scope=col>petal.length</th><th scope=col>petal.width</th><th scope=col>class</th></tr></thead>\n",
       "<tbody>\n",
       "\t<tr><th scope=row>1</th><td>1</td><td>5.1</td><td>3.5</td><td>1.4</td><td>0.2</td><td>setosa</td></tr>\n",
       "\t<tr><th scope=row>2</th><td>2</td><td>4.9</td><td>3</td><td>1.4</td><td>0.2</td><td>setosa</td></tr>\n",
       "\t<tr><th scope=row>3</th><td>3</td><td>4.7</td><td>3.2</td><td>1.3</td><td>0.2</td><td>setosa</td></tr>\n",
       "\t<tr><th scope=row>4</th><td>4</td><td>4.6</td><td>3.1</td><td>1.5</td><td>0.2</td><td>setosa</td></tr>\n",
       "\t<tr><th scope=row>5</th><td>5</td><td>5</td><td>3.6</td><td>1.4</td><td>0.2</td><td>setosa</td></tr>\n",
       "\t<tr><th scope=row>6</th><td>6</td><td>5.4</td><td>3.9</td><td>1.7</td><td>0.4</td><td>setosa</td></tr>\n",
       "</tbody>\n",
       "</table>\n"
      ],
      "text/latex": [
       "\\begin{tabular}{r|llllll}\n",
       "  & Index & sepal.length & sepal.width & petal.length & petal.width & class\\\\\n",
       "\\hline\n",
       "\t1 & 1 & 5.1 & 3.5 & 1.4 & 0.2 & setosa\\\\\n",
       "\t2 & 2 & 4.9 & 3 & 1.4 & 0.2 & setosa\\\\\n",
       "\t3 & 3 & 4.7 & 3.2 & 1.3 & 0.2 & setosa\\\\\n",
       "\t4 & 4 & 4.6 & 3.1 & 1.5 & 0.2 & setosa\\\\\n",
       "\t5 & 5 & 5 & 3.6 & 1.4 & 0.2 & setosa\\\\\n",
       "\t6 & 6 & 5.4 & 3.9 & 1.7 & 0.4 & setosa\\\\\n",
       "\\end{tabular}\n"
      ],
      "text/plain": [
       "  Index sepal.length sepal.width petal.length petal.width  class\n",
       "1     1          5.1         3.5          1.4         0.2 setosa\n",
       "2     2          4.9         3.0          1.4         0.2 setosa\n",
       "3     3          4.7         3.2          1.3         0.2 setosa\n",
       "4     4          4.6         3.1          1.5         0.2 setosa\n",
       "5     5          5.0         3.6          1.4         0.2 setosa\n",
       "6     6          5.4         3.9          1.7         0.4 setosa"
      ]
     },
     "execution_count": 2,
     "metadata": {},
     "output_type": "execute_result"
    },
    {
     "data": {
      "text/plain": [
       "     Index         sepal.length    sepal.width     petal.length  \n",
       " Min.   :  1.00   Min.   :4.300   Min.   :2.000   Min.   :1.000  \n",
       " 1st Qu.: 50.75   1st Qu.:5.400   1st Qu.:2.900   1st Qu.:1.700  \n",
       " Median :100.50   Median :6.100   Median :3.100   Median :3.395  \n",
       " Mean   :100.50   Mean   :5.987   Mean   :3.154   Mean   :3.427  \n",
       " 3rd Qu.:150.25   3rd Qu.:6.500   3rd Qu.:3.433   3rd Qu.:4.900  \n",
       " Max.   :200.00   Max.   :7.900   Max.   :4.400   Max.   :6.900  \n",
       "  petal.width            class   \n",
       " Min.   :0.1000   mythica   :50  \n",
       " 1st Qu.:0.5175   setosa    :50  \n",
       " Median :0.9850   versicolor:50  \n",
       " Mean   :1.0783   virginica :50  \n",
       " 3rd Qu.:1.6000                  \n",
       " Max.   :2.5000                  "
      ]
     },
     "execution_count": 2,
     "metadata": {},
     "output_type": "execute_result"
    }
   ],
   "source": [
    "setwd(\"~/knime-workspace/dreamtolearn TDA\")\n",
    "iris = read.csv(\"iris_Mythica.csv\") \n",
    "## this iris set changed the species to 1,2,3,4 \n",
    "## or first letter) - doesn not handle strings eg \"setosa\" \n",
    "##  you can also use the original iris 150 set if you change Species to a number or letter\n",
    "head(iris) # s=setosa; v=virginica; e=versicolor; m=mythica\n",
    "summary(iris)"
   ]
  },
  {
   "cell_type": "code",
   "execution_count": null,
   "metadata": {
    "collapsed": false
   },
   "outputs": [],
   "source": [
    "# 散布図\n",
    "## what we are starting with\n",
    "plot(iris[2:6], main=\"IRIS Mythica\", pch=23, bg = c(\"red\",\"orange\",\"green\", \"lightblue\")\n",
    "     [unclass(iris$class)])"
   ]
  },
  {
   "cell_type": "markdown",
   "metadata": {},
   "source": [
    "## ざっくり diffusion map で見てみる\n",
    "\n",
    "diffusion map は、次元削減をしてくれる。"
   ]
  },
  {
   "cell_type": "code",
   "execution_count": null,
   "metadata": {
    "collapsed": false,
    "scrolled": false
   },
   "outputs": [],
   "source": [
    "data <- iris[2:5] ## let's learn off 2,3,4,5 columns, first column is index\n",
    "species <- iris$class ## and species is our target and classifier \n",
    "\n",
    "D = dist(scale(data)) # use Euclidean distance on data\n",
    "## DIST: This function computes and returns the distance matrix computed by using the specified distance measure to compute the distances between the rows of a data matrix.\n",
    "\n",
    "dmap = diffuse(D,eps.val=250, t=1, neigen=2)\n",
    "## diffuse: Uses the pair-wise distance matrix for a data set to compute the diffusion map coefficients. Computes the Markov transition probability matrix, and its eigenvalues and left & right eigenvectors. Returns a 'dmap' object.\n",
    "#eps = 250 and t=1 and neigen = 2 is nice\n",
    "\n",
    "## PLOT 2\n",
    "## if this works, you should see clouds of S,M,V and i (or 1,2,3,4) - whatever you had for species tag\n",
    "plot(dmap$X[,1],dmap$X[,2],col=species,pch=paste(species), \n",
    "     xlab=\"Diffusion Map Coordinate 1\", \n",
    "     ylab=\"Diffusion Map Coordinate 2\",\n",
    "     main=\"Diffusion Map of IRIS Mythica\")"
   ]
  },
  {
   "cell_type": "markdown",
   "metadata": {},
   "source": [
    "ちょっと DIFFUSE の設定を変えてみる。"
   ]
  },
  {
   "cell_type": "code",
   "execution_count": null,
   "metadata": {
    "collapsed": false
   },
   "outputs": [],
   "source": [
    "# edit DIFFUSE variable values - what changes? \n",
    "dmap = diffuse(D,eps.val=3, t=2, neigen=3) \n",
    "plot(dmap$X[,1],dmap$X[,2],col=species,pch=paste(species), \n",
    "     xlab=\"Diffusion Map Coordinate 1\", \n",
    "     ylab=\"Diffusion Map Coordinate 2\")"
   ]
  },
  {
   "cell_type": "markdown",
   "metadata": {},
   "source": [
    "## 分類一回目\n",
    "この状態で、RandomForest をやってみる。"
   ]
  },
  {
   "cell_type": "code",
   "execution_count": null,
   "metadata": {
    "collapsed": false
   },
   "outputs": [],
   "source": [
    "# 2) OK - now Use random forest \"Department\" classifier to define distances\n",
    "\n",
    "fit = randomForest(data, species, ntree=100, proximity=TRUE) \n",
    "print(fit)\n",
    "varImpPlot(fit)"
   ]
  },
  {
   "cell_type": "markdown",
   "metadata": {},
   "source": [
    "random forest のダイアグラム"
   ]
  },
  {
   "cell_type": "code",
   "execution_count": null,
   "metadata": {
    "collapsed": false
   },
   "outputs": [],
   "source": [
    "# PLOT 3\n",
    "#version\n",
    "D2 = 1-fit$proximity # use 1 - proximity\n",
    "dmap2 = diffuse(D2,eps.val=.5, t=1, neigen=2)   #original dmap1 = diffuse(D1,eps.val=.1, t=1, neigen=2)\n",
    "head(dmap2)\n",
    "\n",
    "cluster2 = hclust(dist(dmap2$X[,1:2]))\n",
    "plot(cluster2); abline(h=.6, col='blue',lwd=3)"
   ]
  },
  {
   "cell_type": "code",
   "execution_count": null,
   "metadata": {
    "collapsed": false
   },
   "outputs": [],
   "source": [
    "## PLOT 5\n",
    "\n",
    "plot(dmap2$X[,1],dmap2$X[,2],col=species,pch=paste(species), \n",
    "     xlab=\"Diffusion Map Coordinate 1\", \n",
    "     ylab=\"Diffusion Map Coordinate 2\")"
   ]
  },
  {
   "cell_type": "code",
   "execution_count": null,
   "metadata": {
    "collapsed": false
   },
   "outputs": [],
   "source": [
    "## clustering variable 4 (Plot 7) vs 10 is interesting\n",
    "## depends what you want to output\n",
    "clustering2 = cutree(cluster2,k=10)  ## this is how many nodes there are\n",
    "#clustering2\n",
    "\n",
    "plot(dmap2$X[,1],dmap2$X[,2],col=clustering2, pch=19,\n",
    "     xlab=\"Diffusion Map Coordinate 1\", \n",
    "     ylab=\"Diffusion Map Coordinate 2\")"
   ]
  },
  {
   "cell_type": "markdown",
   "metadata": {},
   "source": [
    "いったんセーブ。"
   ]
  },
  {
   "cell_type": "code",
   "execution_count": null,
   "metadata": {
    "collapsed": true
   },
   "outputs": [],
   "source": [
    "## See plot 8 - note number of 'buckets' \n",
    "\n",
    "output2 = data.frame(dmap2$X,species,clustering2)\n",
    "#output2\n",
    "\n",
    "write.csv(output2,\"TDA_export_data2.csv\") "
   ]
  },
  {
   "cell_type": "markdown",
   "metadata": {},
   "source": [
    "仕切りなおすみたい。"
   ]
  },
  {
   "cell_type": "code",
   "execution_count": null,
   "metadata": {
    "collapsed": true
   },
   "outputs": [],
   "source": [
    "iris3 = read.csv(\"iris_Mythica.csv\") \n",
    "data3 <- iris[2:5] ## let's learn off 4 columns skip 1st\n",
    "species3 <- iris$class ## and species is our target"
   ]
  },
  {
   "cell_type": "markdown",
   "metadata": {},
   "source": [
    "random forest やってみる。"
   ]
  },
  {
   "cell_type": "code",
   "execution_count": null,
   "metadata": {
    "collapsed": true
   },
   "outputs": [],
   "source": [
    "fit3 = randomForest(data3, species3, ntree=100, proximity=TRUE) "
   ]
  },
  {
   "cell_type": "code",
   "execution_count": null,
   "metadata": {
    "collapsed": false
   },
   "outputs": [],
   "source": [
    "D3 = 1./fit3$proximity - 1. # use 1/proximity - 1\n",
    "dmap3 = diffuse(D3,eps.val=80, t=1, neigen=2) \n",
    "plot(dmap3$X[,1],dmap3$X[,2],col=species3,pch=paste(species3), \n",
    "     xlab=\"Diffusion Map Coordinate 1\", \n",
    "     ylab=\"Diffusion Map Coordinate 2\")\n",
    "## using RF method we generate  plot similar to plot 6 (but better focus)"
   ]
  },
  {
   "cell_type": "code",
   "execution_count": null,
   "metadata": {
    "collapsed": false
   },
   "outputs": [],
   "source": [
    "cluster3 = hclust(dist(dmap3$X[,1:2]))\n",
    "plot(cluster3); abline(h=.6, col='green',lwd=3)\n",
    "clustering3 = cutree(cluster3,k=8)  ## this is how many nodes there are\n",
    "#clustering3\n",
    "\n",
    "plot(dmap3$X[,1],dmap3$X[,2],col=clustering3, pch=19,\n",
    "     xlab=\"Diffusion Map Coordinate 1\", \n",
    "     ylab=\"Diffusion Map Coordinate 2\")\n",
    "## Plot 8\n",
    "#### Nice - this looks like somehting we can stitch together and ascribe weight to - "
   ]
  },
  {
   "cell_type": "code",
   "execution_count": null,
   "metadata": {
    "collapsed": true
   },
   "outputs": [],
   "source": [
    "# このあたりはよくわからないので、実行しなくていい\n",
    "data <- melt(output3, measure = \"clustering3\", id = c(\"species3\",\"clustering3\"))\n",
    "data\n",
    "\n",
    "print(cast(data, species3 ~ ., sum)) ## useful to show pivot, but not valid add\n",
    "gold <- print(cast(data, clustering3 ~ ., sum )) ## add up ( so need to divide by bin size)\n",
    "colnames(gold)[1] <- \"cluster\"\n",
    "colnames(gold)[2] <- \"weight\"\n",
    "gold[2] = gold[2]/gold[1]  ## need to do this because our pivot gave us SUM, not count (i dont know how to do that)\n",
    "gold ## ok - we have cluster list, and count (size of ball)\n",
    "gold[3] = gold[1]+1\n",
    "colnames(gold)[3] <- \"join.to\"\n",
    "gold\n",
    "### the 8 lines above are probably not the best way to distil information, but best available (room for improvement)\n",
    "## future: consider a function to modify then export to JSON for D3 consumtion\n",
    "\n",
    "## ok, let's export this bad boy and see what it looks like in D3 or Google Fusion\n",
    "write.csv(gold,\"TDA_export_data3.csv\") "
   ]
  },
  {
   "cell_type": "code",
   "execution_count": null,
   "metadata": {
    "collapsed": false
   },
   "outputs": [],
   "source": [
    "# 4) using smoothed histograms\n",
    "D4 = dist(data)\n",
    "# dmap4 = diffuse(D4,eps.val=50, t=1, neigen=2)  # works pretty good with iris mythica\n",
    "dmap4 = diffuse(D4,eps.val=50, t=1, neigen=2) \n",
    "\n",
    "plot(dmap4$X[,1],dmap4$X[,2],col=species,pch=paste(species), \n",
    "     xlab=\"Diffusion Map Coordinate 1\", \n",
    "     ylab=\"Diffusion Map Coordinate 2\", ylim=c(-0.15,0.15))"
   ]
  },
  {
   "cell_type": "code",
   "execution_count": null,
   "metadata": {
    "collapsed": false
   },
   "outputs": [],
   "source": [
    "# fit RF on smoothed histograms\n",
    "fit4 = randomForest(data, species, ntree=1000, proximity=TRUE)\n",
    "print(fit4)\n",
    "\n",
    "D4 = 1-fit$proximity # use 1 - proximity\n",
    "dmap4 = diffuse(D4,eps.val=0.3, t=1, neigen=2) \n",
    "plot(dmap4$X[,1],dmap4$X[,2],col=species,pch=paste(species), \n",
    "     xlab=\"Diffusion Map Coordinate 1\", \n",
    "     ylab=\"Diffusion Map Coordinate 2\")\n",
    "## see plot 6"
   ]
  },
  {
   "cell_type": "markdown",
   "metadata": {},
   "source": [
    "## ここから、pHom"
   ]
  },
  {
   "cell_type": "code",
   "execution_count": 8,
   "metadata": {
    "collapsed": false
   },
   "outputs": [
    {
     "data": {
      "text/html": [
       "<ol class=list-inline>\n",
       "\t<li>200</li>\n",
       "\t<li>4</li>\n",
       "</ol>\n"
      ],
      "text/latex": [
       "\\begin{enumerate*}\n",
       "\\item 200\n",
       "\\item 4\n",
       "\\end{enumerate*}\n"
      ],
      "text/markdown": [
       "1. 200\n",
       "2. 4\n",
       "\n",
       "\n"
      ],
      "text/plain": [
       "[1] 200   4"
      ]
     },
     "execution_count": 8,
     "metadata": {},
     "output_type": "execute_result"
    },
    {
     "data": {
      "text/html": [
       "<table>\n",
       "<thead><tr><th scope=col>sepal.length</th><th scope=col>sepal.width</th><th scope=col>petal.length</th><th scope=col>petal.width</th></tr></thead>\n",
       "<tbody>\n",
       "\t<tr><td>5.1</td><td>3.5</td><td>1.4</td><td>0.2</td></tr>\n",
       "\t<tr><td>4.9</td><td>3.0</td><td>1.4</td><td>0.2</td></tr>\n",
       "\t<tr><td>4.7</td><td>3.2</td><td>1.3</td><td>0.2</td></tr>\n",
       "\t<tr><td>4.6</td><td>3.1</td><td>1.5</td><td>0.2</td></tr>\n",
       "\t<tr><td>5.0</td><td>3.6</td><td>1.4</td><td>0.2</td></tr>\n",
       "\t<tr><td>5.4</td><td>3.9</td><td>1.7</td><td>0.4</td></tr>\n",
       "</tbody>\n",
       "</table>\n"
      ],
      "text/latex": [
       "\\begin{tabular}{llll}\n",
       " sepal.length & sepal.width & petal.length & petal.width\\\\\n",
       "\\hline\n",
       "\t 5.1 & 3.5 & 1.4 & 0.2\\\\\n",
       "\t 4.9 & 3.0 & 1.4 & 0.2\\\\\n",
       "\t 4.7 & 3.2 & 1.3 & 0.2\\\\\n",
       "\t 4.6 & 3.1 & 1.5 & 0.2\\\\\n",
       "\t 5.0 & 3.6 & 1.4 & 0.2\\\\\n",
       "\t 5.4 & 3.9 & 1.7 & 0.4\\\\\n",
       "\\end{tabular}\n"
      ],
      "text/markdown": [
       "1. 5.1\n",
       "2. 4.9\n",
       "3. 4.7\n",
       "4. 4.6\n",
       "5. 5\n",
       "6. 5.4\n",
       "7. 3.5\n",
       "8. 3\n",
       "9. 3.2\n",
       "10. 3.1\n",
       "11. 3.6\n",
       "12. 3.9\n",
       "13. 1.4\n",
       "14. 1.4\n",
       "15. 1.3\n",
       "16. 1.5\n",
       "17. 1.4\n",
       "18. 1.7\n",
       "19. 0.2\n",
       "20. 0.2\n",
       "21. 0.2\n",
       "22. 0.2\n",
       "23. 0.2\n",
       "24. 0.4\n",
       "\n",
       "\n"
      ],
      "text/plain": [
       "     sepal.length sepal.width petal.length petal.width\n",
       "[1,]          5.1         3.5          1.4         0.2\n",
       "[2,]          4.9         3.0          1.4         0.2\n",
       "[3,]          4.7         3.2          1.3         0.2\n",
       "[4,]          4.6         3.1          1.5         0.2\n",
       "[5,]          5.0         3.6          1.4         0.2\n",
       "[6,]          5.4         3.9          1.7         0.4"
      ]
     },
     "execution_count": 8,
     "metadata": {},
     "output_type": "execute_result"
    }
   ],
   "source": [
    "########## some pHO for good measure\n",
    "### Source http://blog.revolutionanalytics.com/2014/01/topological-data-analysis-with-r.html \n",
    "## (5) Betti where are you? - See Plot 4\n",
    "data5 <- as.matrix(iris[2:5])\n",
    "dim(data5)\n",
    "head(data5)"
   ]
  },
  {
   "cell_type": "code",
   "execution_count": null,
   "metadata": {
    "collapsed": false,
    "scrolled": true
   },
   "outputs": [],
   "source": [
    "max_dim <- 4\n",
    "max_f <- 1\n",
    "irisInt0 <- pHom(data5, \n",
    "                 dimension=max_dim,              # maximum dimension of persistent homology computed\n",
    "                 max_filtration_value=max_f,     # maximum dimension of filtration complex\n",
    "                 mode=\"vr\",                      # type of filtration complex\n",
    "                 metric=\"euclidean\")\n",
    "\n",
    "plotBarcodeDiagram(irisInt0, max_dim, max_f, title=\"H0 Barcode plot of Iris MYTHICA Data\")\n",
    "# Plot 4\n"
   ]
  },
  {
   "cell_type": "code",
   "execution_count": null,
   "metadata": {
    "collapsed": false
   },
   "outputs": [],
   "source": [
    "plotPersistenceDiagram(irisInt0, 3, max_f, title=\"H0 persistence diagram of Iris MYTHICA data\")"
   ]
  },
  {
   "cell_type": "code",
   "execution_count": null,
   "metadata": {
    "collapsed": true
   },
   "outputs": [],
   "source": []
  }
 ],
 "metadata": {
  "kernelspec": {
   "display_name": "R",
   "language": "R",
   "name": "ir"
  },
  "language_info": {
   "codemirror_mode": "r",
   "file_extension": ".r",
   "mimetype": "text/x-r-source",
   "name": "R",
   "pygments_lexer": "r",
   "version": "3.1.2"
  }
 },
 "nbformat": 4,
 "nbformat_minor": 0
}
